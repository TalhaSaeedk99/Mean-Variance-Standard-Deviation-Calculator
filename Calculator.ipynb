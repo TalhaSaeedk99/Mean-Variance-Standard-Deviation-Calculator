{
 "cells": [
  {
   "cell_type": "code",
   "execution_count": 3,
   "id": "d94eef2f",
   "metadata": {},
   "outputs": [],
   "source": [
    "import numpy as np\n",
    "import pandas as pd\n",
    "\n",
    "def calculate(*entries):\n",
    "    entries_ = []\n",
    "    for entry in entries:\n",
    "        entries_.append(entry)\n",
    "    if len(entries_) != 9:\n",
    "        print(\"List must contain nine numbers.\")\n",
    "    else:\n",
    "        matrix = np.array(entries).reshape(3,3)\n",
    "        mean1 = np.mean(matrix, axis=0).tolist()\n",
    "        mean2 = np.mean(matrix, axis=1).tolist()\n",
    "        mean3 = np.mean(matrix.flatten())\n",
    "        Variance1 = np.var(matrix, axis=0).tolist()\n",
    "        Variance2 = np.var(matrix, axis=1).tolist()\n",
    "        Variance3 = np.var(matrix.flatten())\n",
    "        STD1 = np.std(matrix, axis=0).tolist()\n",
    "        STD2 = np.std(matrix, axis=1).tolist()\n",
    "        STD3 = np.std(matrix.flatten())\n",
    "        min1 = np.min(matrix, axis=0).tolist()\n",
    "        min2 = np.min(matrix, axis=1).tolist()\n",
    "        min3 = np.min(matrix.flatten())\n",
    "        max1 = np.max(matrix, axis=0).tolist()\n",
    "        max2 = np.max(matrix, axis=1).tolist()\n",
    "        max3 = np.max(matrix.flatten())\n",
    "        sum1 = np.sum(matrix, axis=0).tolist()\n",
    "        sum2 = np.sum(matrix, axis=1).tolist()\n",
    "        sum3 = np.sum(matrix.flatten())\n",
    "        Result = {\n",
    "        'mean': [mean1, mean2, mean3],\n",
    "        'variance': [Variance1, Variance2, Variance3],\n",
    "        'standard deviation': [STD1, STD2, STD3],\n",
    "        'max': [max1, max2, max3],\n",
    "        'min': [min1, min2, min3],\n",
    "        'sum': [sum1, sum2, sum3]\n",
    "        }\n",
    "        print(Result)\n",
    "\n"
   ]
  },
  {
   "cell_type": "code",
   "execution_count": 2,
   "id": "32ea678a",
   "metadata": {},
   "outputs": [
    {
     "name": "stdout",
     "output_type": "stream",
     "text": [
      "{'mean': [[4.0, 5.0, 6.0], [2.0, 5.0, 8.0], 5.0], 'variance': [[6.0, 6.0, 6.0], [0.6666666666666666, 0.6666666666666666, 0.6666666666666666], 6.666666666666667], 'standard deviation': [[2.449489742783178, 2.449489742783178, 2.449489742783178], [0.816496580927726, 0.816496580927726, 0.816496580927726], 2.581988897471611], 'max': [[7, 8, 9], [3, 6, 9], 9], 'min': [[1, 2, 3], [1, 4, 7], 1], 'sum': [[12, 15, 18], [6, 15, 24], 45]}\n"
     ]
    }
   ],
   "source": [
    "#Following is a test case for the calculator\n",
    "\n",
    "calculate(1,2,3,4,5,6,7,8,9)"
   ]
  },
  {
   "cell_type": "code",
   "execution_count": 4,
   "id": "2a037430",
   "metadata": {},
   "outputs": [
    {
     "name": "stdout",
     "output_type": "stream",
     "text": [
      "List must contain nine numbers.\n"
     ]
    }
   ],
   "source": [
    "#When the number of entries is not equal to 9.\n",
    "calculate(1,2,3,4,5,6,7,8)"
   ]
  }
 ],
 "metadata": {
  "kernelspec": {
   "display_name": "Python 3 (ipykernel)",
   "language": "python",
   "name": "python3"
  },
  "language_info": {
   "codemirror_mode": {
    "name": "ipython",
    "version": 3
   },
   "file_extension": ".py",
   "mimetype": "text/x-python",
   "name": "python",
   "nbconvert_exporter": "python",
   "pygments_lexer": "ipython3",
   "version": "3.10.8"
  }
 },
 "nbformat": 4,
 "nbformat_minor": 5
}
